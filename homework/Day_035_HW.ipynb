{
 "cells": [
  {
   "cell_type": "markdown",
   "metadata": {},
   "source": [
    "## 練習時間\n",
    "相信大家對回歸問題及分類問題都有初步的了解。今天的作業希望大家搜尋有關 multi-label 的案例問題。下圖是電影 \"奇異博士\" 的分類。可以看到同時有 \"Action\", \"Adventure\", \"Fantasy\" 的類別存在，代表這是個多標籤的問題。 "
   ]
  },
  {
   "cell_type": "markdown",
   "metadata": {},
   "source": [
    "![image](https://cdn-images-1.medium.com/max/1000/1*r0gYXMSQf5VhdMyl2bRDyg.png)"
   ]
  },
  {
   "cell_type": "markdown",
   "metadata": {},
   "source": [
    "## 請搜尋目標為多標籤問題 (Multi-label) 的機器學習案例，了解其資料來源、目標以及評估指標為何\n",
    "## Hint: 服飾\n",
    "\n",
    "\n",
    "ANS：\n",
    "\n",
    "資料來源：\n",
    "    網路新聞往往含有豐富的語義，一篇文章既可以屬於「經濟」也可以屬於「文化」。\n",
    "\t給網路新聞打多標籤可以更好地反應文章的真實意義，方便日後的分類和使用。\n",
    "\n",
    "評估指標：\n",
    "(1)類標數量不確定，有些樣本可能只有一個類標，有些樣本的類標可能高達幾十甚至上百個。\n",
    "\n",
    "(2)類標之間相互依賴，例如包含藍天類標的樣本很大概率上包含白雲，如何解決類標之間的依賴性問題也是一大難點。\n",
    "\n",
    "(3)多標籤的訓練集比較難以獲取。\n",
    "\n",
    "目標：\n",
    "    目前有很多關於多標籤的學習演算法，依據解決問題的角度，這些演算法可以分為兩大類:\n",
    "\t一是基於問題轉化的方法，\n",
    "\t二是基於演算法適用的方法。\n",
    "\t\t\n",
    "\t基於問題轉化的方法是轉化問題資料，使之使用現有演算法；\n",
    "\t基於演算法適用的方法是指標對某一特定的演算法進行擴充套件，從而能夠處理多標記資料，改進演算法，適用資料。\n",
    "\n"
   ]
  }
 ],
 "metadata": {
  "kernelspec": {
   "display_name": "Python 3",
   "language": "python",
   "name": "python3"
  },
  "language_info": {
   "codemirror_mode": {
    "name": "ipython",
    "version": 3
   },
   "file_extension": ".py",
   "mimetype": "text/x-python",
   "name": "python",
   "nbconvert_exporter": "python",
   "pygments_lexer": "ipython3",
   "version": "3.7.3"
  }
 },
 "nbformat": 4,
 "nbformat_minor": 2
}
